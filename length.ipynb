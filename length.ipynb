{
 "cells": [
  {
   "cell_type": "markdown",
   "metadata": {},
   "source": [
    "# Linear regression for **text length**, given an `html <div>` of <u>known width, height and given the text style</u>"
   ]
  },
  {
   "cell_type": "code",
   "execution_count": 1,
   "metadata": {},
   "outputs": [],
   "source": [
    "import pandas as pd\n",
    "from sklearn import linear_model\n",
    "from sklearn.model_selection import train_test_split\n",
    "\n",
    "import matplotlib.pyplot as plt\n",
    "%matplotlib widget\n",
    "\n",
    "# from mpl_toolkits import mplot3d\n",
    "# import seaborn as sns\n",
    "# sns.set_style(\"darkgrid\")\n"
   ]
  },
  {
   "cell_type": "code",
   "execution_count": 2,
   "metadata": {},
   "outputs": [],
   "source": [
    "df = pd.io.json.read_json(\"length.json\")\n",
    "\n",
    "df = df.drop_duplicates()\n",
    "df = df.drop(df[df.w > 2000].index)\n",
    "df = df.drop(df[df.h > 2000].index)\n",
    "\n",
    "# print(df.head())\n",
    "# print()\n",
    "# print(df.describe())\n",
    "# print()\n",
    "# print(df.info());\n",
    "# print()\n"
   ]
  },
  {
   "cell_type": "code",
   "execution_count": 3,
   "metadata": {},
   "outputs": [
    {
     "data": {
      "application/vnd.jupyter.widget-view+json": {
       "model_id": "2532f492076a44a89f6750ffc2fb2659",
       "version_major": 2,
       "version_minor": 0
      },
      "text/plain": [
       "Canvas(toolbar=Toolbar(toolitems=[('Home', 'Reset original view', 'home', 'home'), ('Back', 'Back to previous …"
      ]
     },
     "metadata": {},
     "output_type": "display_data"
    },
    {
     "data": {
      "text/plain": [
       "Text(0.5, 0, 'text length')"
      ]
     },
     "execution_count": 3,
     "metadata": {},
     "output_type": "execute_result"
    }
   ],
   "source": [
    "plt.figure(figsize=(12, 8))\n",
    "ax = plt.axes(projection='3d')\n",
    "plt.title(\"Plot of dataset\")\n",
    "ax.scatter(df[\"w\"], df[\"h\"], df[\"l\"], c=df[\"l\"], cmap=\"viridis\")\n",
    "ax.set_xlabel('box width')\n",
    "ax.set_ylabel('box height')\n",
    "ax.set_zlabel(\"text length\")\n"
   ]
  },
  {
   "cell_type": "code",
   "execution_count": 4,
   "metadata": {},
   "outputs": [],
   "source": [
    "df[\"area\"] = df[\"w\"]*df[\"h\"]\n"
   ]
  },
  {
   "cell_type": "code",
   "execution_count": 5,
   "metadata": {},
   "outputs": [],
   "source": [
    "wh_train, wh_test, l_train, l_test = train_test_split(\n",
    "    df[[\"w\", \"h\", \"area\"]].values, df[\"l\"].values, test_size=1/4, random_state=1)\n"
   ]
  },
  {
   "cell_type": "code",
   "execution_count": 6,
   "metadata": {},
   "outputs": [
    {
     "name": "stdout",
     "output_type": "stream",
     "text": [
      "Intercept: -8.126482949847684\n",
      "Least-Squares Coefficients: [-0.13599902 -0.2172954   0.00569047]\n",
      "Measure on training data: 0.9953477289607526\n",
      "Measure on test data: 0.9638037200307745\n"
     ]
    }
   ],
   "source": [
    "lin_reg = linear_model.LinearRegression()  # build the object LinearRegression\n",
    "lin_reg.fit(wh_train, l_train)  # estimate the LS coefficients\n",
    "print(\"Intercept:\", lin_reg.intercept_)\n",
    "print(\"Least-Squares Coefficients:\", lin_reg.coef_)\n",
    "# predict output values on training set\n",
    "# prediction_training = lin_reg.predict(wh_train)\n",
    "# predict output values on test set\n",
    "# prediction_test = lin_reg.predict(wh_test)\n",
    "print(\"Measure on training data:\", lin_reg.score(wh_train, l_train))\n",
    "print(\"Measure on test data:\", lin_reg.score(wh_test, l_test))\n"
   ]
  },
  {
   "cell_type": "code",
   "execution_count": 7,
   "metadata": {},
   "outputs": [
    {
     "data": {
      "application/vnd.jupyter.widget-view+json": {
       "model_id": "c7cb8aee88564ae3853126cee6a3eca3",
       "version_major": 2,
       "version_minor": 0
      },
      "text/plain": [
       "Canvas(toolbar=Toolbar(toolitems=[('Home', 'Reset original view', 'home', 'home'), ('Back', 'Back to previous …"
      ]
     },
     "metadata": {},
     "output_type": "display_data"
    },
    {
     "data": {
      "text/plain": [
       "Text(0.5, 0, 'text length')"
      ]
     },
     "execution_count": 7,
     "metadata": {},
     "output_type": "execute_result"
    }
   ],
   "source": [
    "zs = df[\"w\"]*lin_reg.coef_[0]+df[\"h\"]*lin_reg.coef_[1] + \\\n",
    "    df[\"area\"]*lin_reg.coef_[2]+lin_reg.intercept_\n",
    "\n",
    "plt.figure(figsize=(12, 8))\n",
    "ax = plt.axes(projection='3d')\n",
    "plt.title(\"Plot of prediction plane\")\n",
    "ax.scatter(df[\"w\"], df[\"h\"], df[\"l\"], c=df[\"l\"], cmap=\"viridis\")\n",
    "ax.plot_trisurf(df[\"w\"], df[\"h\"], zs)\n",
    "ax.set_xlabel('box width')\n",
    "ax.set_ylabel('box height')\n",
    "ax.set_zlabel(\"text length\")\n"
   ]
  }
 ],
 "metadata": {
  "interpreter": {
   "hash": "637a1757bba02e87016be51782ffed52a88ce90c7018b9ccee0e67617271720e"
  },
  "kernelspec": {
   "display_name": "Python 3.8.12 64-bit ('ml_hw0': conda)",
   "language": "python",
   "name": "python3"
  },
  "language_info": {
   "codemirror_mode": {
    "name": "ipython",
    "version": 3
   },
   "file_extension": ".py",
   "mimetype": "text/x-python",
   "name": "python",
   "nbconvert_exporter": "python",
   "pygments_lexer": "ipython3",
   "version": "3.8.12"
  },
  "orig_nbformat": 4
 },
 "nbformat": 4,
 "nbformat_minor": 2
}
